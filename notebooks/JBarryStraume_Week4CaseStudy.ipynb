{
 "cells": [
  {
   "cell_type": "markdown",
   "metadata": {},
   "source": [
    "# Financial Applications of Time Series\n",
    "## MSDS 7333 - Section 404\n",
    "## Unit 4: Case Study\n",
    "\n",
    "[Data Science @ Southern Methodist University](https://datascience.smu.edu/)"
   ]
  },
  {
   "cell_type": "markdown",
   "metadata": {},
   "source": [
    "# Table of Contents\n",
    "* [Team Members](#Team-Members)\n",
    "* [Abstract](#Abstract)\n",
    "* [Introduction](#Introduction)\n",
    "* [Literature Review](#Literature-Review)\n",
    "* [Import Dataset](#Import)\n",
    "* [Background](#Background)\n",
    "* [Methods](#Methods)\n",
    "* [Results](#Results)\n",
    "* [Future Work, Discussion, and Conclusion](#Conclusion)\n",
    "* [References](#References)"
   ]
  },
  {
   "cell_type": "markdown",
   "metadata": {},
   "source": [
    "# <a name=\"Team-Members\"></a>Team Members\n",
    "* [Jostein Barry-Straume](https://github.com/josteinstraume)"
   ]
  },
  {
   "cell_type": "markdown",
   "metadata": {},
   "source": [
    "# <a name=\"Abstract\"></a>Abstract"
   ]
  },
  {
   "cell_type": "markdown",
   "metadata": {},
   "source": [
    "# <a name=\"Introduction\"></a>Introduction"
   ]
  },
  {
   "cell_type": "markdown",
   "metadata": {},
   "source": [
    "# <a name=\"Literature-Review\"></a>Literature Review"
   ]
  },
  {
   "cell_type": "markdown",
   "metadata": {},
   "source": [
    "# <a name=\"Background\"></a>Background\n",
    "\n",
    "## Import Dataset"
   ]
  },
  {
   "cell_type": "code",
   "execution_count": 2,
   "metadata": {},
   "outputs": [],
   "source": [
    "%%capture\n",
    "from __future__ import division\n",
    "from pandas import Series, DataFrame\n",
    "import pandas as pd\n",
    "from numpy.random import randn\n",
    "import numpy as np\n",
    "import matplotlib.pyplot as plt\n",
    "%matplotlib inline\n",
    "\n",
    "#filepath = '../data/'\n",
    "\n",
    "close_px = pd.read_csv('../data/stock_px.txt', parse_dates=True, index_col=0)\n",
    "volume = pd.read_csv('../data/volume.txt', parse_dates=True, index_col=0)\n",
    "prices = close_px.loc['2011-09-05':'2011-09-14', ['AA', 'GE', 'IBM', 'MSFT']]\n",
    "volume = volume.loc['2011-09-05':'2011-09-12', ['AA', 'GE', 'IBM', 'MSFT']]"
   ]
  },
  {
   "cell_type": "code",
   "execution_count": 5,
   "metadata": {},
   "outputs": [
    {
     "data": {
      "text/html": [
       "<div>\n",
       "<style>\n",
       "    .dataframe thead tr:only-child th {\n",
       "        text-align: right;\n",
       "    }\n",
       "\n",
       "    .dataframe thead th {\n",
       "        text-align: left;\n",
       "    }\n",
       "\n",
       "    .dataframe tbody tr th {\n",
       "        vertical-align: top;\n",
       "    }\n",
       "</style>\n",
       "<table border=\"1\" class=\"dataframe\">\n",
       "  <thead>\n",
       "    <tr style=\"text-align: right;\">\n",
       "      <th></th>\n",
       "      <th>AA</th>\n",
       "      <th>GE</th>\n",
       "      <th>IBM</th>\n",
       "      <th>MSFT</th>\n",
       "    </tr>\n",
       "  </thead>\n",
       "  <tbody>\n",
       "    <tr>\n",
       "      <th>2011-09-06</th>\n",
       "      <td>11.77</td>\n",
       "      <td>15.11</td>\n",
       "      <td>165.11</td>\n",
       "      <td>25.51</td>\n",
       "    </tr>\n",
       "    <tr>\n",
       "      <th>2011-09-07</th>\n",
       "      <td>12.25</td>\n",
       "      <td>15.65</td>\n",
       "      <td>167.31</td>\n",
       "      <td>26.00</td>\n",
       "    </tr>\n",
       "    <tr>\n",
       "      <th>2011-09-08</th>\n",
       "      <td>12.03</td>\n",
       "      <td>15.44</td>\n",
       "      <td>165.25</td>\n",
       "      <td>26.22</td>\n",
       "    </tr>\n",
       "    <tr>\n",
       "      <th>2011-09-09</th>\n",
       "      <td>11.58</td>\n",
       "      <td>14.95</td>\n",
       "      <td>161.37</td>\n",
       "      <td>25.74</td>\n",
       "    </tr>\n",
       "    <tr>\n",
       "      <th>2011-09-12</th>\n",
       "      <td>11.55</td>\n",
       "      <td>14.87</td>\n",
       "      <td>162.42</td>\n",
       "      <td>25.89</td>\n",
       "    </tr>\n",
       "  </tbody>\n",
       "</table>\n",
       "</div>"
      ],
      "text/plain": [
       "               AA     GE     IBM   MSFT\n",
       "2011-09-06  11.77  15.11  165.11  25.51\n",
       "2011-09-07  12.25  15.65  167.31  26.00\n",
       "2011-09-08  12.03  15.44  165.25  26.22\n",
       "2011-09-09  11.58  14.95  161.37  25.74\n",
       "2011-09-12  11.55  14.87  162.42  25.89"
      ]
     },
     "execution_count": 5,
     "metadata": {},
     "output_type": "execute_result"
    }
   ],
   "source": [
    "prices.head()"
   ]
  },
  {
   "cell_type": "code",
   "execution_count": 7,
   "metadata": {},
   "outputs": [
    {
     "data": {
      "text/html": [
       "<div>\n",
       "<style>\n",
       "    .dataframe thead tr:only-child th {\n",
       "        text-align: right;\n",
       "    }\n",
       "\n",
       "    .dataframe thead th {\n",
       "        text-align: left;\n",
       "    }\n",
       "\n",
       "    .dataframe tbody tr th {\n",
       "        vertical-align: top;\n",
       "    }\n",
       "</style>\n",
       "<table border=\"1\" class=\"dataframe\">\n",
       "  <thead>\n",
       "    <tr style=\"text-align: right;\">\n",
       "      <th></th>\n",
       "      <th>AA</th>\n",
       "      <th>GE</th>\n",
       "      <th>IBM</th>\n",
       "      <th>MSFT</th>\n",
       "    </tr>\n",
       "  </thead>\n",
       "  <tbody>\n",
       "    <tr>\n",
       "      <th>2011-09-06</th>\n",
       "      <td>23960600.0</td>\n",
       "      <td>97466600.0</td>\n",
       "      <td>5761200.0</td>\n",
       "      <td>54929300.0</td>\n",
       "    </tr>\n",
       "    <tr>\n",
       "      <th>2011-09-07</th>\n",
       "      <td>16645700.0</td>\n",
       "      <td>60239400.0</td>\n",
       "      <td>6796600.0</td>\n",
       "      <td>41961000.0</td>\n",
       "    </tr>\n",
       "    <tr>\n",
       "      <th>2011-09-08</th>\n",
       "      <td>15735500.0</td>\n",
       "      <td>117920800.0</td>\n",
       "      <td>6027200.0</td>\n",
       "      <td>65811900.0</td>\n",
       "    </tr>\n",
       "    <tr>\n",
       "      <th>2011-09-09</th>\n",
       "      <td>24972700.0</td>\n",
       "      <td>144441000.0</td>\n",
       "      <td>6743900.0</td>\n",
       "      <td>64529200.0</td>\n",
       "    </tr>\n",
       "    <tr>\n",
       "      <th>2011-09-12</th>\n",
       "      <td>28990500.0</td>\n",
       "      <td>169797200.0</td>\n",
       "      <td>5247200.0</td>\n",
       "      <td>55046100.0</td>\n",
       "    </tr>\n",
       "  </tbody>\n",
       "</table>\n",
       "</div>"
      ],
      "text/plain": [
       "                    AA           GE        IBM        MSFT\n",
       "2011-09-06  23960600.0   97466600.0  5761200.0  54929300.0\n",
       "2011-09-07  16645700.0   60239400.0  6796600.0  41961000.0\n",
       "2011-09-08  15735500.0  117920800.0  6027200.0  65811900.0\n",
       "2011-09-09  24972700.0  144441000.0  6743900.0  64529200.0\n",
       "2011-09-12  28990500.0  169797200.0  5247200.0  55046100.0"
      ]
     },
     "execution_count": 7,
     "metadata": {},
     "output_type": "execute_result"
    }
   ],
   "source": [
    "volume.head()"
   ]
  },
  {
   "cell_type": "code",
   "execution_count": 9,
   "metadata": {},
   "outputs": [
    {
     "data": {
      "text/html": [
       "<div>\n",
       "<style>\n",
       "    .dataframe thead tr:only-child th {\n",
       "        text-align: right;\n",
       "    }\n",
       "\n",
       "    .dataframe thead th {\n",
       "        text-align: left;\n",
       "    }\n",
       "\n",
       "    .dataframe tbody tr th {\n",
       "        vertical-align: top;\n",
       "    }\n",
       "</style>\n",
       "<table border=\"1\" class=\"dataframe\">\n",
       "  <thead>\n",
       "    <tr style=\"text-align: right;\">\n",
       "      <th></th>\n",
       "      <th>AA</th>\n",
       "      <th>GE</th>\n",
       "      <th>IBM</th>\n",
       "      <th>MSFT</th>\n",
       "    </tr>\n",
       "  </thead>\n",
       "  <tbody>\n",
       "    <tr>\n",
       "      <th>2011-09-06</th>\n",
       "      <td>282016262.0</td>\n",
       "      <td>1.472720e+09</td>\n",
       "      <td>9.512317e+08</td>\n",
       "      <td>1.401246e+09</td>\n",
       "    </tr>\n",
       "    <tr>\n",
       "      <th>2011-09-07</th>\n",
       "      <td>203909825.0</td>\n",
       "      <td>9.427466e+08</td>\n",
       "      <td>1.137139e+09</td>\n",
       "      <td>1.090986e+09</td>\n",
       "    </tr>\n",
       "    <tr>\n",
       "      <th>2011-09-08</th>\n",
       "      <td>189298065.0</td>\n",
       "      <td>1.820697e+09</td>\n",
       "      <td>9.959948e+08</td>\n",
       "      <td>1.725588e+09</td>\n",
       "    </tr>\n",
       "    <tr>\n",
       "      <th>2011-09-09</th>\n",
       "      <td>289183866.0</td>\n",
       "      <td>2.159393e+09</td>\n",
       "      <td>1.088263e+09</td>\n",
       "      <td>1.660982e+09</td>\n",
       "    </tr>\n",
       "    <tr>\n",
       "      <th>2011-09-12</th>\n",
       "      <td>334840275.0</td>\n",
       "      <td>2.524884e+09</td>\n",
       "      <td>8.522502e+08</td>\n",
       "      <td>1.425144e+09</td>\n",
       "    </tr>\n",
       "    <tr>\n",
       "      <th>2011-09-13</th>\n",
       "      <td>NaN</td>\n",
       "      <td>NaN</td>\n",
       "      <td>NaN</td>\n",
       "      <td>NaN</td>\n",
       "    </tr>\n",
       "    <tr>\n",
       "      <th>2011-09-14</th>\n",
       "      <td>NaN</td>\n",
       "      <td>NaN</td>\n",
       "      <td>NaN</td>\n",
       "      <td>NaN</td>\n",
       "    </tr>\n",
       "  </tbody>\n",
       "</table>\n",
       "</div>"
      ],
      "text/plain": [
       "                     AA            GE           IBM          MSFT\n",
       "2011-09-06  282016262.0  1.472720e+09  9.512317e+08  1.401246e+09\n",
       "2011-09-07  203909825.0  9.427466e+08  1.137139e+09  1.090986e+09\n",
       "2011-09-08  189298065.0  1.820697e+09  9.959948e+08  1.725588e+09\n",
       "2011-09-09  289183866.0  2.159393e+09  1.088263e+09  1.660982e+09\n",
       "2011-09-12  334840275.0  2.524884e+09  8.522502e+08  1.425144e+09\n",
       "2011-09-13          NaN           NaN           NaN           NaN\n",
       "2011-09-14          NaN           NaN           NaN           NaN"
      ]
     },
     "execution_count": 9,
     "metadata": {},
     "output_type": "execute_result"
    }
   ],
   "source": [
    "prices * volume"
   ]
  },
  {
   "cell_type": "code",
   "execution_count": 11,
   "metadata": {},
   "outputs": [],
   "source": [
    "vwap = (prices * volume).sum() / volume.sum()"
   ]
  },
  {
   "cell_type": "code",
   "execution_count": 13,
   "metadata": {},
   "outputs": [
    {
     "data": {
      "text/plain": [
       "AA       11.778689\n",
       "GE       15.122853\n",
       "IBM     164.340091\n",
       "MSFT     25.875054\n",
       "dtype: float64"
      ]
     },
     "execution_count": 13,
     "metadata": {},
     "output_type": "execute_result"
    }
   ],
   "source": [
    "vwap"
   ]
  },
  {
   "cell_type": "code",
   "execution_count": 15,
   "metadata": {},
   "outputs": [
    {
     "data": {
      "text/plain": [
       "AA       11.778689\n",
       "GE       15.122853\n",
       "IBM     164.340091\n",
       "MSFT     25.875054\n",
       "dtype: float64"
      ]
     },
     "execution_count": 15,
     "metadata": {},
     "output_type": "execute_result"
    }
   ],
   "source": [
    "vwap.dropna()"
   ]
  },
  {
   "cell_type": "code",
   "execution_count": 17,
   "metadata": {},
   "outputs": [
    {
     "data": {
      "text/plain": [
       "(               AA     GE     IBM   MSFT\n",
       " 2011-09-06  11.77  15.11  165.11  25.51\n",
       " 2011-09-07  12.25  15.65  167.31  26.00\n",
       " 2011-09-08  12.03  15.44  165.25  26.22\n",
       " 2011-09-09  11.58  14.95  161.37  25.74\n",
       " 2011-09-12  11.55  14.87  162.42  25.89,\n",
       "                     AA           GE        IBM        MSFT\n",
       " 2011-09-06  23960600.0   97466600.0  5761200.0  54929300.0\n",
       " 2011-09-07  16645700.0   60239400.0  6796600.0  41961000.0\n",
       " 2011-09-08  15735500.0  117920800.0  6027200.0  65811900.0\n",
       " 2011-09-09  24972700.0  144441000.0  6743900.0  64529200.0\n",
       " 2011-09-12  28990500.0  169797200.0  5247200.0  55046100.0)"
      ]
     },
     "execution_count": 17,
     "metadata": {},
     "output_type": "execute_result"
    }
   ],
   "source": [
    "prices.align(volume, join='inner')"
   ]
  },
  {
   "cell_type": "code",
   "execution_count": 19,
   "metadata": {},
   "outputs": [
    {
     "data": {
      "text/html": [
       "<div>\n",
       "<style>\n",
       "    .dataframe thead tr:only-child th {\n",
       "        text-align: right;\n",
       "    }\n",
       "\n",
       "    .dataframe thead th {\n",
       "        text-align: left;\n",
       "    }\n",
       "\n",
       "    .dataframe tbody tr th {\n",
       "        vertical-align: top;\n",
       "    }\n",
       "</style>\n",
       "<table border=\"1\" class=\"dataframe\">\n",
       "  <thead>\n",
       "    <tr style=\"text-align: right;\">\n",
       "      <th></th>\n",
       "      <th>one</th>\n",
       "      <th>three</th>\n",
       "      <th>two</th>\n",
       "    </tr>\n",
       "  </thead>\n",
       "  <tbody>\n",
       "    <tr>\n",
       "      <th>a</th>\n",
       "      <td>0.0</td>\n",
       "      <td>1.0</td>\n",
       "      <td>NaN</td>\n",
       "    </tr>\n",
       "    <tr>\n",
       "      <th>b</th>\n",
       "      <td>1.0</td>\n",
       "      <td>NaN</td>\n",
       "      <td>1.0</td>\n",
       "    </tr>\n",
       "    <tr>\n",
       "      <th>c</th>\n",
       "      <td>2.0</td>\n",
       "      <td>2.0</td>\n",
       "      <td>2.0</td>\n",
       "    </tr>\n",
       "    <tr>\n",
       "      <th>d</th>\n",
       "      <td>NaN</td>\n",
       "      <td>NaN</td>\n",
       "      <td>0.0</td>\n",
       "    </tr>\n",
       "    <tr>\n",
       "      <th>e</th>\n",
       "      <td>NaN</td>\n",
       "      <td>NaN</td>\n",
       "      <td>3.0</td>\n",
       "    </tr>\n",
       "    <tr>\n",
       "      <th>f</th>\n",
       "      <td>NaN</td>\n",
       "      <td>0.0</td>\n",
       "      <td>NaN</td>\n",
       "    </tr>\n",
       "  </tbody>\n",
       "</table>\n",
       "</div>"
      ],
      "text/plain": [
       "   one  three  two\n",
       "a  0.0    1.0  NaN\n",
       "b  1.0    NaN  1.0\n",
       "c  2.0    2.0  2.0\n",
       "d  NaN    NaN  0.0\n",
       "e  NaN    NaN  3.0\n",
       "f  NaN    0.0  NaN"
      ]
     },
     "execution_count": 19,
     "metadata": {},
     "output_type": "execute_result"
    }
   ],
   "source": [
    "s1 = Series(range(3), index=['a', 'b', 'c'])\n",
    "s2 = Series(range(4), index=['d', 'b', 'c', 'e'])\n",
    "s3 = Series(range(3), index=['f', 'a', 'c'])\n",
    "DataFrame({'one': s1, 'two': s2, 'three': s3})"
   ]
  },
  {
   "cell_type": "code",
   "execution_count": 20,
   "metadata": {},
   "outputs": [
    {
     "data": {
      "text/html": [
       "<div>\n",
       "<style>\n",
       "    .dataframe thead tr:only-child th {\n",
       "        text-align: right;\n",
       "    }\n",
       "\n",
       "    .dataframe thead th {\n",
       "        text-align: left;\n",
       "    }\n",
       "\n",
       "    .dataframe tbody tr th {\n",
       "        vertical-align: top;\n",
       "    }\n",
       "</style>\n",
       "<table border=\"1\" class=\"dataframe\">\n",
       "  <thead>\n",
       "    <tr style=\"text-align: right;\">\n",
       "      <th></th>\n",
       "      <th>one</th>\n",
       "      <th>three</th>\n",
       "      <th>two</th>\n",
       "    </tr>\n",
       "  </thead>\n",
       "  <tbody>\n",
       "    <tr>\n",
       "      <th>f</th>\n",
       "      <td>NaN</td>\n",
       "      <td>0.0</td>\n",
       "      <td>NaN</td>\n",
       "    </tr>\n",
       "    <tr>\n",
       "      <th>a</th>\n",
       "      <td>0.0</td>\n",
       "      <td>1.0</td>\n",
       "      <td>NaN</td>\n",
       "    </tr>\n",
       "    <tr>\n",
       "      <th>c</th>\n",
       "      <td>2.0</td>\n",
       "      <td>2.0</td>\n",
       "      <td>2.0</td>\n",
       "    </tr>\n",
       "    <tr>\n",
       "      <th>e</th>\n",
       "      <td>NaN</td>\n",
       "      <td>NaN</td>\n",
       "      <td>3.0</td>\n",
       "    </tr>\n",
       "  </tbody>\n",
       "</table>\n",
       "</div>"
      ],
      "text/plain": [
       "   one  three  two\n",
       "f  NaN    0.0  NaN\n",
       "a  0.0    1.0  NaN\n",
       "c  2.0    2.0  2.0\n",
       "e  NaN    NaN  3.0"
      ]
     },
     "execution_count": 20,
     "metadata": {},
     "output_type": "execute_result"
    }
   ],
   "source": [
    "DataFrame({'one': s1, 'two': s2, 'three': s3}, index=list('face'))"
   ]
  },
  {
   "cell_type": "markdown",
   "metadata": {},
   "source": [
    "# <a name=\"Methods\"></a>Methods"
   ]
  },
  {
   "cell_type": "markdown",
   "metadata": {},
   "source": [
    "# <a name=\"Results\"></a>Results"
   ]
  },
  {
   "cell_type": "markdown",
   "metadata": {},
   "source": [
    "# <a name=\"Conclusion\"></a>Future Work, Discussion, and Conclusion"
   ]
  },
  {
   "cell_type": "markdown",
   "metadata": {},
   "source": [
    "# <a name=\"References\"></a>References\n",
    "\n",
    "* McKinney, West, https://github.com/wesm/pydata-book/tree/1st-edition\n",
    "* Slater, R.D., \"Financial and Economic Data Applications.\" Ch11-code-new. 2018.\n",
    "* "
   ]
  },
  {
   "cell_type": "code",
   "execution_count": null,
   "metadata": {},
   "outputs": [],
   "source": []
  }
 ],
 "metadata": {
  "kernelspec": {
   "display_name": "Python 3",
   "language": "python",
   "name": "python3"
  },
  "language_info": {
   "codemirror_mode": {
    "name": "ipython",
    "version": 3
   },
   "file_extension": ".py",
   "mimetype": "text/x-python",
   "name": "python",
   "nbconvert_exporter": "python",
   "pygments_lexer": "ipython3",
   "version": "3.6.3"
  }
 },
 "nbformat": 4,
 "nbformat_minor": 2
}
