{
 "cells": [
  {
   "cell_type": "markdown",
   "metadata": {},
   "source": [
    "# Financial Applications of Time Series\n",
    "## MSDS 7333 - Section 404\n",
    "## Unit 4: Case Study\n",
    "\n",
    "[Data Science @ Southern Methodist University](https://datascience.smu.edu/)"
   ]
  },
  {
   "cell_type": "markdown",
   "metadata": {},
   "source": [
    "# Table of Contents\n",
    "* [Team Members](#Team-Members)\n",
    "* [Abstract](#Abstract)\n",
    "* [Introduction](#Introduction)\n",
    "* [Literature Review](#Literature-Review)\n",
    "* [Background](#Background)\n",
    "* [Methods](#Methods)\n",
    "* [Results](#Results)\n",
    "* [Future Work, Discussion, and Conclusion](#Conclusion)\n",
    "* [References](#References)"
   ]
  },
  {
   "cell_type": "markdown",
   "metadata": {},
   "source": [
    "# <a name=\"Team-Members\"></a>Team Members\n",
    "* [Jostein Barry-Straume](https://github.com/josteinstraume)"
   ]
  },
  {
   "cell_type": "markdown",
   "metadata": {},
   "source": [
    "# <a name=\"Abstract\"></a>Abstract\n",
    "\n",
    "> In this case study, the application of Signal Frontier Analysis is presented. Eight arbitrarily chosen stocks comprise a portfolio for which said analysis is conducted. Cumulative returns for each stock are computed, plotted, and inspected. Subsequently, the computed Sharpe ratios for various holding and lookback periods shed insight with regards to the optimal risk-return for this given portfolio."
   ]
  },
  {
   "cell_type": "markdown",
   "metadata": {},
   "source": [
    "# <a name=\"Introduction\"></a>Introduction\n",
    "\n",
    "> The methods by which an investor selects stocks for a portfolio can vary from anything to a gut feeling to a complex 'black box' algorithm. The former strategy involves trading on \"emotion and suggestions of others, including friends, family and financial gurus\" [1]. Individuals who follow such audacious decision making are often referred to as sheep, contrasting with the image of bulls and bears [1]. Hedge Funds and \"some of the world's largest investment managers\" now use the latter strategy to \"manage their complicated investment strategies\" [2]. Such a system inherently involves ethical implications, as a portfolio's risk may \"conceal their true risk under the guise of proprietary technology\" [2]. Between these two ends of the investment spectrum lies momentum trading.\n",
    "\n",
    "![Source: Xkcd](../images/marketwatch.png)\n",
    "\n",
    "> Momentum trading involves analyzing the recent past performance of a given basket of stocks in order to discern the optimal time for which to hold a given stock or portfolio. \n",
    "\n",
    "> In general, financial investment strategy is made up of two schools of thought: fundamenta"
   ]
  },
  {
   "cell_type": "markdown",
   "metadata": {},
   "source": [
    "# <a name=\"Literature-Review\"></a>Literature Review"
   ]
  },
  {
   "cell_type": "markdown",
   "metadata": {},
   "source": [
    "https://www.amazon.com/dp/0471405671/?tag=stackoverflow17-20\n",
    "https://quant.stackexchange.com/questions/530/digital-signal-processing-in-trading"
   ]
  },
  {
   "cell_type": "code",
   "execution_count": null,
   "metadata": {},
   "outputs": [],
   "source": []
  },
  {
   "cell_type": "code",
   "execution_count": null,
   "metadata": {},
   "outputs": [],
   "source": []
  },
  {
   "cell_type": "markdown",
   "metadata": {},
   "source": [
    "# <a name=\"Background\"></a>Background\n",
    "\n",
    "### Import Dataset\n",
    "\n",
    "> The dataset will consist of closing stock prices from January 1, 2014 to May 1, 2018 for the following companies:\n",
    "\n",
    "| Company | Stock Ticker |\n",
    "| :------: | :-----------: |\n",
    "| Tesla, Inc. | TSLA |\n",
    "| American Airlines | AA |\n",
    "| International Business Machines Corp. (IBM) | IBM |\n",
    "| General Electric (GE) | GE |\n",
    "| Advanced Micro Devices, Inc. (AMD) | AMD |\n",
    "| Cisco | CSCO |\n",
    "| Amazon | AMZN |\n",
    "| JPMorgan Chase & Co. | JPM |\n",
    "\n",
    "> In order to carry out the signal frontier analysis, the closes prices of the above listed companies will be downloaded from Yahoo Finance via the 'pandas_datareader' library. The below three cells lays the foundation for data importation by calling upon the necessary libraries and packages required for this case study."
   ]
  },
  {
   "cell_type": "code",
   "execution_count": 115,
   "metadata": {},
   "outputs": [],
   "source": [
    "%%capture\n",
    "# Source:\n",
    "# https://stackoverflow.com/questions/9031783/hide-all-warnings-in-ipython\n",
    "import warnings\n",
    "warnings.filterwarnings('ignore')\n",
    "from __future__ import division\n",
    "from pandas import Series, DataFrame\n",
    "import pandas as pd\n",
    "from numpy.random import randn\n",
    "import numpy as np\n",
    "pd.options.display.max_rows = 12\n",
    "np.set_printoptions(precision=4, suppress=True)\n",
    "import matplotlib.pyplot as plt\n",
    "plt.rc('figure', figsize=(12, 6))"
   ]
  },
  {
   "cell_type": "code",
   "execution_count": 116,
   "metadata": {},
   "outputs": [],
   "source": [
    "%matplotlib inline"
   ]
  },
  {
   "cell_type": "code",
   "execution_count": 117,
   "metadata": {},
   "outputs": [
    {
     "name": "stdout",
     "output_type": "stream",
     "text": [
      "5y\n",
      "5y\n",
      "5y\n",
      "5y\n",
      "5y\n",
      "5y\n",
      "5y\n",
      "5y\n"
     ]
    }
   ],
   "source": [
    "import datetime\n",
    "import pandas as pd\n",
    "start_dt=datetime.datetime(2014,1,1)\n",
    "end_dt=datetime.datetime(2018,5,1)\n",
    "from pandas_datareader import data as web\n",
    "stock='TSLA' # Tesla, Inc.\n",
    "px=pd.DataFrame({'TSLA':web.DataReader(stock,'iex', start_dt, end_dt)['close']})\n",
    "names=['AA','IBM', 'GE','AMD', 'CSCO', 'AMZN', 'JPM']\n",
    "for stock in names:\n",
    "    while True:\n",
    "        try:\n",
    "            px[stock]=web.DataReader(stock,'iex', start_dt, end_dt)['close']\n",
    "            break\n",
    "        except:\n",
    "            print('Unable to read stock: {0}'.format(stock))\n",
    "            print('trying again')\n",
    "px.index=pd.to_datetime(px.index)"
   ]
  },
  {
   "cell_type": "markdown",
   "metadata": {},
   "source": [
    "> The above cell of code iteratively calls the web.DataReader for each company in the array of company names. If data importation is unsuccessful, the for loop will alert the user via the print message \"Unable to read stock.\" As one can see in the above output, no such print messages were outputted. Hence, data importation of the eight companies is successful."
   ]
  },
  {
   "cell_type": "markdown",
   "metadata": {},
   "source": [
    "### Summary Statistics\n",
    "\n",
    "> The summary statistics for each company are found below:"
   ]
  },
  {
   "cell_type": "code",
   "execution_count": 118,
   "metadata": {},
   "outputs": [
    {
     "data": {
      "text/html": [
       "<div>\n",
       "<style>\n",
       "    .dataframe thead tr:only-child th {\n",
       "        text-align: right;\n",
       "    }\n",
       "\n",
       "    .dataframe thead th {\n",
       "        text-align: left;\n",
       "    }\n",
       "\n",
       "    .dataframe tbody tr th {\n",
       "        vertical-align: top;\n",
       "    }\n",
       "</style>\n",
       "<table border=\"1\" class=\"dataframe\">\n",
       "  <thead>\n",
       "    <tr style=\"text-align: right;\">\n",
       "      <th></th>\n",
       "      <th>TSLA</th>\n",
       "      <th>AA</th>\n",
       "      <th>IBM</th>\n",
       "      <th>GE</th>\n",
       "      <th>AMD</th>\n",
       "      <th>CSCO</th>\n",
       "      <th>AMZN</th>\n",
       "      <th>JPM</th>\n",
       "    </tr>\n",
       "  </thead>\n",
       "  <tbody>\n",
       "    <tr>\n",
       "      <th>count</th>\n",
       "      <td>1090.000000</td>\n",
       "      <td>386.000000</td>\n",
       "      <td>1090.000000</td>\n",
       "      <td>1090.000000</td>\n",
       "      <td>1090.000000</td>\n",
       "      <td>1090.000000</td>\n",
       "      <td>1090.000000</td>\n",
       "      <td>1090.000000</td>\n",
       "    </tr>\n",
       "    <tr>\n",
       "      <th>mean</th>\n",
       "      <td>250.013984</td>\n",
       "      <td>39.473162</td>\n",
       "      <td>147.586682</td>\n",
       "      <td>24.526765</td>\n",
       "      <td>6.326748</td>\n",
       "      <td>27.684183</td>\n",
       "      <td>681.868111</td>\n",
       "      <td>69.779741</td>\n",
       "    </tr>\n",
       "    <tr>\n",
       "      <th>std</th>\n",
       "      <td>53.089645</td>\n",
       "      <td>8.537693</td>\n",
       "      <td>12.984702</td>\n",
       "      <td>4.083370</td>\n",
       "      <td>4.270740</td>\n",
       "      <td>5.944880</td>\n",
       "      <td>330.462972</td>\n",
       "      <td>19.138777</td>\n",
       "    </tr>\n",
       "    <tr>\n",
       "      <th>min</th>\n",
       "      <td>139.340000</td>\n",
       "      <td>20.924700</td>\n",
       "      <td>108.125000</td>\n",
       "      <td>12.830000</td>\n",
       "      <td>1.620000</td>\n",
       "      <td>18.586200</td>\n",
       "      <td>286.950000</td>\n",
       "      <td>48.123200</td>\n",
       "    </tr>\n",
       "    <tr>\n",
       "      <th>25%</th>\n",
       "      <td>209.645000</td>\n",
       "      <td>32.872500</td>\n",
       "      <td>140.030850</td>\n",
       "      <td>22.704575</td>\n",
       "      <td>2.670000</td>\n",
       "      <td>23.704500</td>\n",
       "      <td>374.455000</td>\n",
       "      <td>55.087775</td>\n",
       "    </tr>\n",
       "    <tr>\n",
       "      <th>50%</th>\n",
       "      <td>235.590000</td>\n",
       "      <td>37.500000</td>\n",
       "      <td>147.597700</td>\n",
       "      <td>24.213850</td>\n",
       "      <td>4.110000</td>\n",
       "      <td>26.279850</td>\n",
       "      <td>638.570000</td>\n",
       "      <td>61.620550</td>\n",
       "    </tr>\n",
       "    <tr>\n",
       "      <th>75%</th>\n",
       "      <td>280.907500</td>\n",
       "      <td>46.695000</td>\n",
       "      <td>157.767550</td>\n",
       "      <td>28.141450</td>\n",
       "      <td>10.925000</td>\n",
       "      <td>30.651250</td>\n",
       "      <td>882.587500</td>\n",
       "      <td>84.929400</td>\n",
       "    </tr>\n",
       "    <tr>\n",
       "      <th>max</th>\n",
       "      <td>385.000000</td>\n",
       "      <td>60.230000</td>\n",
       "      <td>172.900800</td>\n",
       "      <td>31.115400</td>\n",
       "      <td>15.200000</td>\n",
       "      <td>45.186700</td>\n",
       "      <td>1598.390000</td>\n",
       "      <td>118.170800</td>\n",
       "    </tr>\n",
       "  </tbody>\n",
       "</table>\n",
       "</div>"
      ],
      "text/plain": [
       "              TSLA          AA          IBM           GE          AMD  \\\n",
       "count  1090.000000  386.000000  1090.000000  1090.000000  1090.000000   \n",
       "mean    250.013984   39.473162   147.586682    24.526765     6.326748   \n",
       "std      53.089645    8.537693    12.984702     4.083370     4.270740   \n",
       "min     139.340000   20.924700   108.125000    12.830000     1.620000   \n",
       "25%     209.645000   32.872500   140.030850    22.704575     2.670000   \n",
       "50%     235.590000   37.500000   147.597700    24.213850     4.110000   \n",
       "75%     280.907500   46.695000   157.767550    28.141450    10.925000   \n",
       "max     385.000000   60.230000   172.900800    31.115400    15.200000   \n",
       "\n",
       "              CSCO         AMZN          JPM  \n",
       "count  1090.000000  1090.000000  1090.000000  \n",
       "mean     27.684183   681.868111    69.779741  \n",
       "std       5.944880   330.462972    19.138777  \n",
       "min      18.586200   286.950000    48.123200  \n",
       "25%      23.704500   374.455000    55.087775  \n",
       "50%      26.279850   638.570000    61.620550  \n",
       "75%      30.651250   882.587500    84.929400  \n",
       "max      45.186700  1598.390000   118.170800  "
      ]
     },
     "execution_count": 118,
     "metadata": {},
     "output_type": "execute_result"
    }
   ],
   "source": [
    "px.describe()"
   ]
  },
  {
   "cell_type": "markdown",
   "metadata": {},
   "source": [
    "> In general, the dataset contains 1,129 observations for 8 variables. A cursory glance at the above summary statistics leads to a couple observations. Firstly, the count for all of the stocks, except for American Airlines (AA), is equal to 1,129. With an observation count of 401, the American Airlines (AA) variable would appear to contain a significant amount missing data. Secondly, Amazon commands the highest closing stock price at 1,598.39 USD. Inversely, for the given time period, AMD holds the lowest closing stock price at 1.62 USD."
   ]
  },
  {
   "cell_type": "code",
   "execution_count": 119,
   "metadata": {},
   "outputs": [
    {
     "data": {
      "text/plain": [
       "TSLA      0\n",
       "AA      704\n",
       "IBM       0\n",
       "GE        0\n",
       "AMD       0\n",
       "CSCO      0\n",
       "AMZN      0\n",
       "JPM       0\n",
       "dtype: int64"
      ]
     },
     "execution_count": 119,
     "metadata": {},
     "output_type": "execute_result"
    }
   ],
   "source": [
    "px.isnull().sum()"
   ]
  },
  {
   "cell_type": "markdown",
   "metadata": {},
   "source": [
    "> The above call sums the null observations for each stock. Initial suspicion of missing data in regards to American Airlines is confirmed. 728 out of 1,129 observations is 64.48% of all observations. Consequently, there are too many missing values for American Airlines to perform listwise deletion. Instead, the missing observations will be filled by invoking the pad option in the pandas fillna() function. In other words, the method for filling holes in the re-indexed dataset will involve \"propagat[ing the] last valid observation forward to next valid backfill\" [3]. "
   ]
  },
  {
   "cell_type": "code",
   "execution_count": 120,
   "metadata": {},
   "outputs": [],
   "source": [
    "px = px.asfreq('B').fillna(method='pad')"
   ]
  },
  {
   "cell_type": "code",
   "execution_count": 121,
   "metadata": {},
   "outputs": [
    {
     "data": {
      "text/html": [
       "<div>\n",
       "<style>\n",
       "    .dataframe thead tr:only-child th {\n",
       "        text-align: right;\n",
       "    }\n",
       "\n",
       "    .dataframe thead th {\n",
       "        text-align: left;\n",
       "    }\n",
       "\n",
       "    .dataframe tbody tr th {\n",
       "        vertical-align: top;\n",
       "    }\n",
       "</style>\n",
       "<table border=\"1\" class=\"dataframe\">\n",
       "  <thead>\n",
       "    <tr style=\"text-align: right;\">\n",
       "      <th></th>\n",
       "      <th>TSLA</th>\n",
       "      <th>AA</th>\n",
       "      <th>IBM</th>\n",
       "      <th>GE</th>\n",
       "      <th>AMD</th>\n",
       "      <th>CSCO</th>\n",
       "      <th>AMZN</th>\n",
       "      <th>JPM</th>\n",
       "    </tr>\n",
       "    <tr>\n",
       "      <th>date</th>\n",
       "      <th></th>\n",
       "      <th></th>\n",
       "      <th></th>\n",
       "      <th></th>\n",
       "      <th></th>\n",
       "      <th></th>\n",
       "      <th></th>\n",
       "      <th></th>\n",
       "    </tr>\n",
       "  </thead>\n",
       "  <tbody>\n",
       "    <tr>\n",
       "      <th>2014-01-02</th>\n",
       "      <td>150.100</td>\n",
       "      <td>NaN</td>\n",
       "      <td>159.3027</td>\n",
       "      <td>23.8864</td>\n",
       "      <td>3.95</td>\n",
       "      <td>19.1522</td>\n",
       "      <td>397.97</td>\n",
       "      <td>52.2174</td>\n",
       "    </tr>\n",
       "    <tr>\n",
       "      <th>2014-01-03</th>\n",
       "      <td>149.560</td>\n",
       "      <td>NaN</td>\n",
       "      <td>160.2558</td>\n",
       "      <td>23.8690</td>\n",
       "      <td>4.00</td>\n",
       "      <td>19.1347</td>\n",
       "      <td>396.44</td>\n",
       "      <td>52.6211</td>\n",
       "    </tr>\n",
       "    <tr>\n",
       "      <th>2014-01-06</th>\n",
       "      <td>147.000</td>\n",
       "      <td>NaN</td>\n",
       "      <td>159.7063</td>\n",
       "      <td>23.6779</td>\n",
       "      <td>4.13</td>\n",
       "      <td>19.1609</td>\n",
       "      <td>393.63</td>\n",
       "      <td>52.9261</td>\n",
       "    </tr>\n",
       "    <tr>\n",
       "      <th>2014-01-07</th>\n",
       "      <td>149.360</td>\n",
       "      <td>NaN</td>\n",
       "      <td>162.8918</td>\n",
       "      <td>23.7039</td>\n",
       "      <td>4.18</td>\n",
       "      <td>19.4220</td>\n",
       "      <td>398.03</td>\n",
       "      <td>52.3161</td>\n",
       "    </tr>\n",
       "    <tr>\n",
       "      <th>2014-01-08</th>\n",
       "      <td>151.280</td>\n",
       "      <td>NaN</td>\n",
       "      <td>161.3978</td>\n",
       "      <td>23.6345</td>\n",
       "      <td>4.18</td>\n",
       "      <td>19.4072</td>\n",
       "      <td>401.92</td>\n",
       "      <td>52.8094</td>\n",
       "    </tr>\n",
       "    <tr>\n",
       "      <th>2014-01-09</th>\n",
       "      <td>147.530</td>\n",
       "      <td>NaN</td>\n",
       "      <td>160.8912</td>\n",
       "      <td>23.6431</td>\n",
       "      <td>4.09</td>\n",
       "      <td>19.2305</td>\n",
       "      <td>401.01</td>\n",
       "      <td>52.7108</td>\n",
       "    </tr>\n",
       "    <tr>\n",
       "      <th>...</th>\n",
       "      <td>...</td>\n",
       "      <td>...</td>\n",
       "      <td>...</td>\n",
       "      <td>...</td>\n",
       "      <td>...</td>\n",
       "      <td>...</td>\n",
       "      <td>...</td>\n",
       "      <td>...</td>\n",
       "    </tr>\n",
       "    <tr>\n",
       "      <th>2018-04-24</th>\n",
       "      <td>283.460</td>\n",
       "      <td>50.82</td>\n",
       "      <td>143.9619</td>\n",
       "      <td>14.6800</td>\n",
       "      <td>10.09</td>\n",
       "      <td>43.7400</td>\n",
       "      <td>1460.09</td>\n",
       "      <td>110.4100</td>\n",
       "    </tr>\n",
       "    <tr>\n",
       "      <th>2018-04-25</th>\n",
       "      <td>280.690</td>\n",
       "      <td>51.95</td>\n",
       "      <td>144.3377</td>\n",
       "      <td>14.0500</td>\n",
       "      <td>9.71</td>\n",
       "      <td>43.7100</td>\n",
       "      <td>1460.17</td>\n",
       "      <td>109.9900</td>\n",
       "    </tr>\n",
       "    <tr>\n",
       "      <th>2018-04-26</th>\n",
       "      <td>285.480</td>\n",
       "      <td>52.94</td>\n",
       "      <td>145.1092</td>\n",
       "      <td>14.3800</td>\n",
       "      <td>11.04</td>\n",
       "      <td>44.2100</td>\n",
       "      <td>1517.96</td>\n",
       "      <td>110.1000</td>\n",
       "    </tr>\n",
       "    <tr>\n",
       "      <th>2018-04-27</th>\n",
       "      <td>294.075</td>\n",
       "      <td>51.60</td>\n",
       "      <td>144.8718</td>\n",
       "      <td>14.3800</td>\n",
       "      <td>11.11</td>\n",
       "      <td>44.7100</td>\n",
       "      <td>1572.62</td>\n",
       "      <td>109.4000</td>\n",
       "    </tr>\n",
       "    <tr>\n",
       "      <th>2018-04-30</th>\n",
       "      <td>293.900</td>\n",
       "      <td>51.20</td>\n",
       "      <td>143.3685</td>\n",
       "      <td>14.0700</td>\n",
       "      <td>10.88</td>\n",
       "      <td>44.2900</td>\n",
       "      <td>1566.13</td>\n",
       "      <td>108.7800</td>\n",
       "    </tr>\n",
       "    <tr>\n",
       "      <th>2018-05-01</th>\n",
       "      <td>299.920</td>\n",
       "      <td>51.99</td>\n",
       "      <td>143.4080</td>\n",
       "      <td>14.0500</td>\n",
       "      <td>11.13</td>\n",
       "      <td>44.8300</td>\n",
       "      <td>1582.26</td>\n",
       "      <td>108.7800</td>\n",
       "    </tr>\n",
       "  </tbody>\n",
       "</table>\n",
       "<p>1129 rows × 8 columns</p>\n",
       "</div>"
      ],
      "text/plain": [
       "               TSLA     AA       IBM       GE    AMD     CSCO     AMZN  \\\n",
       "date                                                                     \n",
       "2014-01-02  150.100    NaN  159.3027  23.8864   3.95  19.1522   397.97   \n",
       "2014-01-03  149.560    NaN  160.2558  23.8690   4.00  19.1347   396.44   \n",
       "2014-01-06  147.000    NaN  159.7063  23.6779   4.13  19.1609   393.63   \n",
       "2014-01-07  149.360    NaN  162.8918  23.7039   4.18  19.4220   398.03   \n",
       "2014-01-08  151.280    NaN  161.3978  23.6345   4.18  19.4072   401.92   \n",
       "2014-01-09  147.530    NaN  160.8912  23.6431   4.09  19.2305   401.01   \n",
       "...             ...    ...       ...      ...    ...      ...      ...   \n",
       "2018-04-24  283.460  50.82  143.9619  14.6800  10.09  43.7400  1460.09   \n",
       "2018-04-25  280.690  51.95  144.3377  14.0500   9.71  43.7100  1460.17   \n",
       "2018-04-26  285.480  52.94  145.1092  14.3800  11.04  44.2100  1517.96   \n",
       "2018-04-27  294.075  51.60  144.8718  14.3800  11.11  44.7100  1572.62   \n",
       "2018-04-30  293.900  51.20  143.3685  14.0700  10.88  44.2900  1566.13   \n",
       "2018-05-01  299.920  51.99  143.4080  14.0500  11.13  44.8300  1582.26   \n",
       "\n",
       "                 JPM  \n",
       "date                  \n",
       "2014-01-02   52.2174  \n",
       "2014-01-03   52.6211  \n",
       "2014-01-06   52.9261  \n",
       "2014-01-07   52.3161  \n",
       "2014-01-08   52.8094  \n",
       "2014-01-09   52.7108  \n",
       "...              ...  \n",
       "2018-04-24  110.4100  \n",
       "2018-04-25  109.9900  \n",
       "2018-04-26  110.1000  \n",
       "2018-04-27  109.4000  \n",
       "2018-04-30  108.7800  \n",
       "2018-05-01  108.7800  \n",
       "\n",
       "[1129 rows x 8 columns]"
      ]
     },
     "execution_count": 121,
     "metadata": {},
     "output_type": "execute_result"
    }
   ],
   "source": [
    "px"
   ]
  },
  {
   "cell_type": "markdown",
   "metadata": {},
   "source": [
    "> The output above both provides a visual snapshot of the dataset and confirms the NaN filling function worked properly. In the next section, returns will be calculated for a deeper understanding of the dataset."
   ]
  },
  {
   "cell_type": "markdown",
   "metadata": {},
   "source": [
    "# <a name=\"Methods\"></a>Methods\n",
    "\n",
    "> The below cell deals with determining the cumulative returns of each of the eight chosen stocks. First, returns are calculated by taking the percent change based on closing prices. Subsequently, the cumulative return is then calculated as the difference between the cumulative product of 1 plus the percent change of return, minus 1 to isolate for only cumulative returns. The outcome of these calculations are plotted and discussed in the results section."
   ]
  },
  {
   "cell_type": "code",
   "execution_count": 122,
   "metadata": {},
   "outputs": [],
   "source": [
    "plt.close('all')"
   ]
  },
  {
   "cell_type": "code",
   "execution_count": 123,
   "metadata": {},
   "outputs": [],
   "source": [
    "px = px.asfreq('B').fillna(method='pad')\n",
    "rets = px.pct_change()\n",
    "cumulative_returns = ((1 + rets).cumprod() - 1)"
   ]
  },
  {
   "cell_type": "markdown",
   "metadata": {},
   "source": [
    "> In order to construct a portfolio, the momentum for each stock must be computed. As a result, a function is created that calculates the momentum of a given stock's closing price for a given look-back period of time. Firstly, the return momentum is discerned by taking the percent change based on the look-back period of the given price shifted by a certain lag period. Ranks are then created by ranking the momentum returns in descending order. Afterwards, the variable demeaned is created, which is the difference between mean ranks between the current ranked momentum return versus the previous. Finally, the function returns the division of the demeaned variable's current and previous values' standard deviations. In other words, the ranked, standardized momentums are returned by the calc_mom function"
   ]
  },
  {
   "cell_type": "code",
   "execution_count": 124,
   "metadata": {},
   "outputs": [],
   "source": [
    "def calc_mom(price, lookback, lag):\n",
    "    mom_ret = price.shift(lag).pct_change(lookback)\n",
    "    ranks = mom_ret.rank(axis=1, ascending=False)\n",
    "    demeaned = ranks.subtract(ranks.mean(axis=1), axis=0)\n",
    "    return demeaned.divide(demeaned.std(axis=1), axis=0)"
   ]
  },
  {
   "cell_type": "code",
   "execution_count": 125,
   "metadata": {},
   "outputs": [],
   "source": [
    "compound = lambda x : (1 + x).prod() - 1\n",
    "daily_sr = lambda x: x.mean() / x.std()\n",
    "\n",
    "def strat_sr(prices, lb, hold):\n",
    "    # Compute portfolio weights\n",
    "    freq = '%dB' % hold\n",
    "    port = calc_mom(prices, lb, lag=1)\n",
    "\n",
    "    daily_rets = prices.pct_change()\n",
    "\n",
    "    # Compute portfolio returns\n",
    "    port = port.shift(1).resample(freq, how='first')\n",
    "    #port = port.shift(1).resample(freq).first()\n",
    "    returns = daily_rets.resample(freq, how=compound)\n",
    "    #returns = daily_rets.resample(freq).mean()\n",
    "    port_rets = (port * returns).sum(axis=1)\n",
    "\n",
    "    return daily_sr(port_rets) * np.sqrt(252 / hold)"
   ]
  },
  {
   "cell_type": "code",
   "execution_count": 126,
   "metadata": {
    "scrolled": true
   },
   "outputs": [
    {
     "data": {
      "text/plain": [
       "-0.53038785110658992"
      ]
     },
     "execution_count": 126,
     "metadata": {},
     "output_type": "execute_result"
    }
   ],
   "source": [
    "strat_sr(px, 70, 30)"
   ]
  },
  {
   "cell_type": "markdown",
   "metadata": {},
   "source": [
    "> The above strat_sr function creates a portfolio for a \"particular lookback and holding period (days between trading), returning the overall Sharpe ratio\" [4]. In other words, this backtesting function returns a scalar value which then can be utilized by the below code.\n",
    "\n",
    "> The defaultdict package is imported in order to store the returned scalar values from the strat_sr function into a new DataFrame."
   ]
  },
  {
   "cell_type": "code",
   "execution_count": 127,
   "metadata": {},
   "outputs": [],
   "source": [
    "from collections import defaultdict\n",
    "\n",
    "lookbacks = range(20, 90, 5)\n",
    "holdings = range(20, 90, 5)\n",
    "dd = defaultdict(dict)\n",
    "for lb in lookbacks:\n",
    "    for hold in holdings:\n",
    "        dd[lb][hold] = strat_sr(px, lb, hold)\n",
    "\n",
    "ddf = DataFrame(dd)\n",
    "ddf.index.name = 'Holding Period'\n",
    "ddf.columns.name = 'Lookback Period'"
   ]
  },
  {
   "cell_type": "markdown",
   "metadata": {},
   "source": [
    "> After creating the new DataFrame, constructing a heatmap to visually display the grid's various Sharpe ratio enables for greater insight in regards to which lookbacks and holding periods offer the best momentum strategy. The heatmap will be discussed in the results section."
   ]
  },
  {
   "cell_type": "code",
   "execution_count": 128,
   "metadata": {},
   "outputs": [],
   "source": [
    "import matplotlib.pyplot as plt\n",
    "\n",
    "def heatmap(df, cmap=plt.cm.gray_r):\n",
    "    fig = plt.figure()\n",
    "    ax = fig.add_subplot(111)\n",
    "    axim = ax.imshow(df.values, cmap=cmap, interpolation='nearest')\n",
    "    ax.set_xlabel(df.columns.name)\n",
    "    ax.set_xticks(np.arange(len(df.columns)))\n",
    "    ax.set_xticklabels(list(df.columns))\n",
    "    ax.set_ylabel(df.index.name)\n",
    "    ax.set_yticks(np.arange(len(df.index)))\n",
    "    ax.set_yticklabels(list(df.index))\n",
    "    plt.colorbar(axim)"
   ]
  },
  {
   "cell_type": "markdown",
   "metadata": {},
   "source": [
    "# <a name=\"Results\"></a>Results\n",
    "\n",
    "> The below table and plot reflect the cumulative returns for the eight selected stocks in this case study. It is important to note that the top 3 stocks with the best cumulative returns appear to be Amazon, Tesla, and AMD. As previously mentioned in the background section, Amazon and AMD are the same stocks with the highest and lowest closing prices, respectively."
   ]
  },
  {
   "cell_type": "code",
   "execution_count": 129,
   "metadata": {},
   "outputs": [
    {
     "data": {
      "text/plain": [
       "TSLA    750.507676\n",
       "AA      305.269170\n",
       "IBM     -83.154272\n",
       "GE       30.313048\n",
       "AMD     679.943038\n",
       "CSCO    503.499593\n",
       "AMZN    805.839191\n",
       "JPM     380.669499\n",
       "dtype: float64"
      ]
     },
     "execution_count": 129,
     "metadata": {},
     "output_type": "execute_result"
    }
   ],
   "source": [
    "cumulative_returns.sum()"
   ]
  },
  {
   "cell_type": "code",
   "execution_count": 130,
   "metadata": {},
   "outputs": [
    {
     "data": {
      "text/plain": [
       "<matplotlib.axes._subplots.AxesSubplot at 0x120aa7a58>"
      ]
     },
     "execution_count": 130,
     "metadata": {},
     "output_type": "execute_result"
    },
    {
     "data": {
      "image/png": "[encoded data removed]",
      "text/plain": [
       "<matplotlib.figure.Figure at 0x120aa7860>"
      ]
     },
     "metadata": {},
     "output_type": "display_data"
    }
   ],
   "source": [
    "cumulative_returns.plot()"
   ]
  },
  {
   "cell_type": "markdown",
   "metadata": {},
   "source": [
    "> At first glance it might seem surprising that the stock with the lowest closing price would attain the bronze position, but there might be some underlying mechanisms that could explain such stock behavior. Logically, it is easier for a company to return a larger cumulative gain if its stock naturally starts lower at the beginning of whichever time period is being inspected. However, the caveat is that such cumulative gains realized from a low stock price must be driven by strong improvements by the company on a macro level. CNBC Interviews with AMD's CEO, Lisa Su, reveal that her \"long-term strategy is paying off\" [5]. The tremendous stock increase under the leadership of Su would indicate that AMD is putting their best foot forward to gain market share through steady long term improvements.\n",
    "\n",
    "> Few companies maintain a consumer excitement level like Tesla. One could argue that the cult of personality revolving Elon Musk has much to do with this. However, that does not take away from the monumental achievements accomplished by Tesla. The United States' auto industry has not seen a similar contender enter the market since the DeLorean Motor Company. It remains to be seen if Telsa will share the fate of DeLorean. The recent reports that \"nearly a quarter of Tesla's Model 3 reservation deposits in the U.S.\" have been refunded certainly does not bode well [6]. With that being said, Musk is investing heavily into research and development surrounding self-driving cars. In fact, Telsa announced in late 2016 that their cars are now built with full autonomous driving capability hardware [7]. Smart transportation is one of the biggest problems smart cities face in the coming decades. Since the \"number 1 use case for smart transportation for data science\" is autonomous driving, Musk is steering Tesla to gain a market advantage in next generation technology [8]. Consequently, it is currently doubtful that Tesla will share the same fate as DeLorean in the 1980's.\n",
    "\n",
    "> Hendrik Bessembinder, a finance professor at Arizona State University, states that Amazon belongs to a very small subset of special stocks [9]. Bessembinder goes on to argue that Amazon's stock classification is because \"it's one of the greatest wealth creators since 1926, and it's reached that status in a very short period of time\" [9]. Amazon's meteoric rise in cumulative returns is partly explained by it's rapid growth over the relatively short period of the company's lifespan. Of note is Amazon's decision to forgo dividend payments and instead reinvest it's capital into \"disparate fields as cloud computing, movies, music, food, artificial intelligence and the distribution of washing machines and toasters\" [9]. The extent of such diversification means that Amazon's shareholders are likely to continue to benefit from Amazon's cumulative returns."
   ]
  },
  {
   "cell_type": "code",
   "execution_count": 131,
   "metadata": {},
   "outputs": [
    {
     "data": {
      "image/png": "[encoded data removed]",
      "text/plain": [
       "<matplotlib.figure.Figure at 0x120abf9b0>"
      ]
     },
     "metadata": {},
     "output_type": "display_data"
    }
   ],
   "source": [
    "heatmap(ddf)\n",
    "plt.show()"
   ]
  },
  {
   "cell_type": "markdown",
   "metadata": {},
   "source": [
    "> The above heatmap displays the \"momentum strategy of Sharpe ratio over various lookbacks and holding periods\" [4]. The Sharpe ratio is the \"average return earned in excess of the risk-free rate per unit of volatility or total risk\" [10]. As a result, a higher Sharpe ratio indicates a larger average return. With regards to the heatmap, higher Sharpe ratios are reflected as darker pixels, whereas lower Sharpe ratios are displayed as lighter grey or white pixels. Cursory inspection of the heatmap reveals that a lookback period of 20 days contains the highest Sharpe ratio momentum strategies."
   ]
  },
  {
   "cell_type": "code",
   "execution_count": 132,
   "metadata": {},
   "outputs": [
    {
     "data": {
      "text/plain": [
       "Lookback Period\n",
       "20    0.651119\n",
       "30    0.361639\n",
       "80    0.154244\n",
       "25    0.136330\n",
       "40    0.066985\n",
       "85    0.042112\n",
       "        ...   \n",
       "45   -0.139479\n",
       "55   -0.233900\n",
       "50   -0.288470\n",
       "70   -0.300311\n",
       "60   -0.436968\n",
       "65   -0.615101\n",
       "Length: 14, dtype: float64"
      ]
     },
     "execution_count": 132,
     "metadata": {},
     "output_type": "execute_result"
    }
   ],
   "source": [
    "ddf.max().sort_values(ascending=False)"
   ]
  },
  {
   "cell_type": "markdown",
   "metadata": {},
   "source": [
    "> The above query confirms that a lookback period of 20 days results in the highest Sharpe ratio. Moreover, the second and third highest Sharpe ratios are offered by lookback periods of 20 and 80 days, respectively. The possible lookback periods in this case study range from 20 to 85 days. The above results indicate that overall risk-return of a portfolio benefits the most from smaller lookback periods. Furthermore, examination of the lookback period of 20 days itself lends to some interesting observations."
   ]
  },
  {
   "cell_type": "code",
   "execution_count": 133,
   "metadata": {},
   "outputs": [
    {
     "data": {
      "text/plain": [
       "Holding Period\n",
       "75    0.651119\n",
       "25    0.535581\n",
       "30    0.323846\n",
       "60    0.194303\n",
       "35    0.117282\n",
       "55    0.093278\n",
       "        ...   \n",
       "65   -0.293998\n",
       "70   -0.373818\n",
       "40   -0.407015\n",
       "85   -0.829831\n",
       "45   -0.849591\n",
       "80   -0.850565\n",
       "Name: 20, Length: 14, dtype: float64"
      ]
     },
     "execution_count": 133,
     "metadata": {},
     "output_type": "execute_result"
    }
   ],
   "source": [
    "ddf[20].sort_values(ascending=False)"
   ]
  },
  {
   "cell_type": "markdown",
   "metadata": {},
   "source": [
    "> Within the lookback period of 20 days, the maximum Sharpe ratio of the entire DataFrame comes from a holding period of 75 days. With regards to this case study, the holding period ranges from 20 to 85 days. Although the holding period of 75 days offers the greatest Sharpe ratio, some of the lowest Sharpe ratios are from holding periods of 80 and 85 days. This would indicate that the overall return compared to risk decreases. In other words, it is risky to hold onto a portfolio for too long, or the maximum period of time. Given a lookback period of 20, the top two Sharpe ratios are realized by a hold period of 75 and 25. Put differently, a portfolio achieves a better average return invest by either holding short or long term, while avoiding medium length holdings."
   ]
  },
  {
   "cell_type": "markdown",
   "metadata": {},
   "source": [
    "# <a name=\"Conclusion\"></a>Future Work, Discussion, and Conclusion"
   ]
  },
  {
   "cell_type": "markdown",
   "metadata": {},
   "source": [
    "> Within the scope of the stocks chosen for this case study, it is apparent that maintaining a lookback option of 20 days offers the best risk-return for a portfolio. Moreover, invoking lookback options of 20 days for both short term and long term holdings may offer the best overall portfolio return. Given the maximum Sharpe ratio for each lookback period, the overall maximum from a lookback period of 20 days is 80.05% higher than that of the second highest lookback period of 30 days. Specific to a lookback period of 20 days, the highest Sharpe ratios came from longer and shorter term holdings (75 and 25 days). However, the lower Sharpe ratios lends towards suggesting that the portfolio comprised of these specific stocks should not be held for the absolute longest, nor shortest periods.\n",
    "\n",
    "> Despite its high stock price, Amazon appears still offer considerable cumulative returns for its stakeholders. Tesla's moderately consistent cumulative returns are inspiring considering its potential future in autonomous driving. AMD offers a potentially volatile, yet lucrative investment under the reign of its comparatively new CEO.\n",
    "\n",
    "> A possible future improvement would be seeking understanding as to why so many observations were missing in regards to American Airlines. To what extent do this missing observations deceive, mislead, or bias any conclusions drawn in this case study? Such an investigation would offer better actionable insight. Perhaps a different source of financial data would contain less missing data. However, whether or not that data contains less bias would remain to be seen.\n",
    "\n",
    "> Another future improvement would be to discern whether or not the composition of this specific portfolio lends itself to certain Sharpe ratios. Many of stocks chosen for this case study fall within the technology sector. To what extend does the texture of a portfolio with regards to the specific industry sectors influence a portfolio's average return earned in excess of the risk-free rate per unit of volatility [10]? Future work delving into shedding light on answering this question could offer investors practical and general actionable knowledge with how their portfolios should be structured."
   ]
  },
  {
   "cell_type": "markdown",
   "metadata": {},
   "source": [
    "# <a name=\"References\"></a>References\n",
    "\n",
    "https://www.investopedia.com/terms/s/sheep.asp\n",
    "\n",
    "https://www.investopedia.com/terms/b/blackbox.asp\n",
    "\n",
    "https://sites.tufts.edu/eeseniordesignhandbook/2015/signal-processing-in-finance/\n",
    "\n",
    "https://xkcd.com/1600/\n",
    "\n",
    "1) McKinney, West, https://github.com/wesm/pydata-book/tree/1st-edition\n",
    "\n",
    "2) Slater, R.D., \"Financial and Economic Data Applications.\" Ch11-code-new. 2018.\n",
    "\n",
    "3) http://nipy.bic.berkeley.edu/nightly/pandas/doc/generated/pandas.Series.fillna.html\n",
    "\n",
    "4) Oreilly Python for Data Analysis\n",
    "\n",
    "5) https://www.cnbc.com/video/2018/04/26/amd-ceo-our-long-term-strategy-is-paying-off.html\n",
    "\n",
    "6) https://www.recode.net/2018/6/4/17414496/nearly-a-quarter-of-teslas-model-3-reservation-deposits-in-the-u-s-have-supposedly-been-refunded\n",
    "\n",
    "7) https://www.tesla.com/blog/all-tesla-cars-being-produced-now-have-full-self-driving-hardware\n",
    "\n",
    "8) Greer, Melvin, \"What is the number 1 use case for smart transportation for data science? Autonomous vehicles.\" Week 2 Synchronous lecture - break out discussion.\n",
    "\n",
    "9) https://www.nytimes.com/2017/07/28/your-money/amazon-jeff-bezos.html\n",
    "\n",
    "10) https://www.investopedia.com/terms/s/sharperatio.asp"
   ]
  },
  {
   "cell_type": "code",
   "execution_count": null,
   "metadata": {},
   "outputs": [],
   "source": []
  }
 ],
 "metadata": {
  "kernelspec": {
   "display_name": "Python 3",
   "language": "python",
   "name": "python3"
  },
  "language_info": {
   "codemirror_mode": {
    "name": "ipython",
    "version": 3
   },
   "file_extension": ".py",
   "mimetype": "text/x-python",
   "name": "python",
   "nbconvert_exporter": "python",
   "pygments_lexer": "ipython3",
   "version": "3.6.3"
  }
 },
 "nbformat": 4,
 "nbformat_minor": 2
}
